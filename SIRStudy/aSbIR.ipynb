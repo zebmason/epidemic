{
 "cells": [
  {
   "cell_type": "code",
   "execution_count": 1,
   "metadata": {},
   "outputs": [],
   "source": [
    "gamma =   [               0.01,                0.05,                 0.1,                  0.2,                 0.3,                  0.4,                 0.5,                 0.6,                 0.7,                  0.8,              0.9,                      1.0]\n",
    "s_fac =   [-0.9824078756976168, -0.971735292763572,  -0.963581257201065,   -0.9423554239669681, -0.9184457566243576, -0.8954250261736132,  -0.8709294868770989, -0.8461207921707072, -0.8220145924932375,  -0.7976074256438479, -0.7745194612610665,  -0.7437706097893396]\n",
    "ipr_fac = [-0.3944701526444681, -0.3907241564518467, -0.37632200541135047, -0.3570662849265972, -0.3371227634053126, -0.31877685819203183, -0.3027479580545024, -0.2858357148443896, -0.26877097703200803, -0.2527990754795069, -0.23616633614194069, -0.22670438203241952]"
   ]
  },
  {
   "cell_type": "code",
   "execution_count": 2,
   "metadata": {},
   "outputs": [
    {
     "name": "stdout",
     "output_type": "stream",
     "text": [
      "[101.79071490951668, 20.58173676405319, 10.3779519633323, 5.305853686236396, 3.6293197603575624, 2.791970211825727, 2.2963971597418538, 1.9697739165478538, 1.7378905941784497, 1.567187014327217, 1.4345812683673675, 1.3445005581535858]\n",
      "[0.40153398848146576, 0.4020890867724322, 0.39054516949038737, 0.37890829282170424, 0.3670578920679745, 0.3560061969166187, 0.3476147754970026, 0.3378190413109733, 0.3269661870804552, 0.31694674266032746, 0.3049198218433614, 0.3048041681784518]\n"
     ]
    }
   ],
   "source": [
    "r_0 = []\n",
    "iprratio = []\n",
    "for i in range(len(gamma)):\n",
    "    r_0.append(-1.0 / (gamma[i] * s_fac[i]))\n",
    "    iprratio.append(ipr_fac[i]/ s_fac[i])\n",
    "print(r_0)\n",
    "print(iprratio)"
   ]
  },
  {
   "cell_type": "code",
   "execution_count": 3,
   "metadata": {},
   "outputs": [],
   "source": [
    "import matplotlib.pyplot as plt\n",
    "%matplotlib inline"
   ]
  },
  {
   "cell_type": "code",
   "execution_count": 4,
   "metadata": {},
   "outputs": [
    {
     "data": {
      "text/plain": [
       "[<matplotlib.lines.Line2D at 0x28c899c8588>]"
      ]
     },
     "execution_count": 4,
     "metadata": {},
     "output_type": "execute_result"
    },
    {
     "data": {
      "image/png": "[encoded data removed]",
      "text/plain": [
       "<Figure size 432x288 with 1 Axes>"
      ]
     },
     "metadata": {
      "needs_background": "light"
     },
     "output_type": "display_data"
    }
   ],
   "source": [
    "plt.xlabel(\"R0\")\n",
    "plt.ylabel(\"b/a, c/a\")\n",
    "plt.plot(r_0, iprratio)"
   ]
  },
  {
   "cell_type": "code",
   "execution_count": 5,
   "metadata": {},
   "outputs": [
    {
     "data": {
      "text/html": [
       "<div>\n",
       "<style scoped>\n",
       "    .dataframe tbody tr th:only-of-type {\n",
       "        vertical-align: middle;\n",
       "    }\n",
       "\n",
       "    .dataframe tbody tr th {\n",
       "        vertical-align: top;\n",
       "    }\n",
       "\n",
       "    .dataframe thead th {\n",
       "        text-align: right;\n",
       "    }\n",
       "</style>\n",
       "<table border=\"1\" class=\"dataframe\">\n",
       "  <thead>\n",
       "    <tr style=\"text-align: right;\">\n",
       "      <th></th>\n",
       "      <th>count</th>\n",
       "      <th>mean</th>\n",
       "      <th>std</th>\n",
       "      <th>min</th>\n",
       "      <th>25%</th>\n",
       "      <th>50%</th>\n",
       "      <th>75%</th>\n",
       "      <th>max</th>\n",
       "    </tr>\n",
       "  </thead>\n",
       "  <tbody>\n",
       "    <tr>\n",
       "      <th>r_0</th>\n",
       "      <td>12.0</td>\n",
       "      <td>12.902323</td>\n",
       "      <td>28.544439</td>\n",
       "      <td>1.344501</td>\n",
       "      <td>1.695215</td>\n",
       "      <td>2.544184</td>\n",
       "      <td>6.573878</td>\n",
       "      <td>101.790715</td>\n",
       "    </tr>\n",
       "    <tr>\n",
       "      <th>iprratio</th>\n",
       "      <td>12.0</td>\n",
       "      <td>0.352934</td>\n",
       "      <td>0.035579</td>\n",
       "      <td>0.304804</td>\n",
       "      <td>0.324461</td>\n",
       "      <td>0.351810</td>\n",
       "      <td>0.381818</td>\n",
       "      <td>0.402089</td>\n",
       "    </tr>\n",
       "  </tbody>\n",
       "</table>\n",
       "</div>"
      ],
      "text/plain": [
       "          count       mean        std       min       25%       50%       75%  \\\n",
       "r_0        12.0  12.902323  28.544439  1.344501  1.695215  2.544184  6.573878   \n",
       "iprratio   12.0   0.352934   0.035579  0.304804  0.324461  0.351810  0.381818   \n",
       "\n",
       "                 max  \n",
       "r_0       101.790715  \n",
       "iprratio    0.402089  "
      ]
     },
     "execution_count": 5,
     "metadata": {},
     "output_type": "execute_result"
    }
   ],
   "source": [
    "import numpy, pandas\n",
    "titles = ['r_0', 'iprratio']\n",
    "matrix = [r_0, iprratio]\n",
    "df = pandas.DataFrame(numpy.array(matrix).T, columns=titles)\n",
    "df.describe().T"
   ]
  },
  {
   "cell_type": "code",
   "execution_count": 6,
   "metadata": {},
   "outputs": [
    {
     "data": {
      "text/html": [
       "<div>\n",
       "<style scoped>\n",
       "    .dataframe tbody tr th:only-of-type {\n",
       "        vertical-align: middle;\n",
       "    }\n",
       "\n",
       "    .dataframe tbody tr th {\n",
       "        vertical-align: top;\n",
       "    }\n",
       "\n",
       "    .dataframe thead th {\n",
       "        text-align: right;\n",
       "    }\n",
       "</style>\n",
       "<table border=\"1\" class=\"dataframe\">\n",
       "  <thead>\n",
       "    <tr style=\"text-align: right;\">\n",
       "      <th></th>\n",
       "      <th>r_0</th>\n",
       "      <th>iprratio</th>\n",
       "    </tr>\n",
       "  </thead>\n",
       "  <tbody>\n",
       "    <tr>\n",
       "      <th>r_0</th>\n",
       "      <td>1.000000</td>\n",
       "      <td>0.561217</td>\n",
       "    </tr>\n",
       "    <tr>\n",
       "      <th>iprratio</th>\n",
       "      <td>0.561217</td>\n",
       "      <td>1.000000</td>\n",
       "    </tr>\n",
       "  </tbody>\n",
       "</table>\n",
       "</div>"
      ],
      "text/plain": [
       "               r_0  iprratio\n",
       "r_0       1.000000  0.561217\n",
       "iprratio  0.561217  1.000000"
      ]
     },
     "execution_count": 6,
     "metadata": {},
     "output_type": "execute_result"
    }
   ],
   "source": [
    "df.corr()"
   ]
  },
  {
   "cell_type": "code",
   "execution_count": 7,
   "metadata": {},
   "outputs": [
    {
     "data": {
      "text/plain": [
       "<seaborn.axisgrid.PairGrid at 0x28c8b1fd048>"
      ]
     },
     "execution_count": 7,
     "metadata": {},
     "output_type": "execute_result"
    },
    {
     "data": {
      "image/png": "[encoded data removed]",
      "text/plain": [
       "<Figure size 360x360 with 6 Axes>"
      ]
     },
     "metadata": {
      "needs_background": "light"
     },
     "output_type": "display_data"
    }
   ],
   "source": [
    "import seaborn as sns\n",
    "sns.pairplot(df,\n",
    "             plot_kws={'alpha': 0.6},\n",
    "             diag_kws={'bins': 30})"
   ]
  },
  {
   "cell_type": "code",
   "execution_count": 8,
   "metadata": {},
   "outputs": [],
   "source": [
    "from sklearn.linear_model import LinearRegression\n",
    "from sklearn.metrics import mean_squared_error"
   ]
  },
  {
   "cell_type": "code",
   "execution_count": 9,
   "metadata": {},
   "outputs": [
    {
     "name": "stdout",
     "output_type": "stream",
     "text": [
      "model: iprratio = 0.34390882934353284 + 0.00069952138163401 R_0\n"
     ]
    }
   ],
   "source": [
    "y = df['iprratio'].values\n",
    "df = df.drop('iprratio', axis=1)\n",
    "x = df.values\n",
    "lm = LinearRegression(fit_intercept=True)\n",
    "lm.fit(x, y)\n",
    "y_pred = lm.predict(x)\n",
    "msg = 'model: iprratio = {} + {} R_0'.format(lm.intercept_, lm.coef_[0])\n",
    "print(msg)"
   ]
  }
 ],
 "metadata": {
  "kernelspec": {
   "display_name": "Python 3",
   "language": "python",
   "name": "python3"
  },
  "language_info": {
   "codemirror_mode": {
    "name": "ipython",
    "version": 3
   },
   "file_extension": ".py",
   "mimetype": "text/x-python",
   "name": "python",
   "nbconvert_exporter": "python",
   "pygments_lexer": "ipython3",
   "version": "3.7.1"
  }
 },
 "nbformat": 4,
 "nbformat_minor": 2
}
