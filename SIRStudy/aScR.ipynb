{
 "cells": [
  {
   "cell_type": "code",
   "execution_count": 1,
   "metadata": {},
   "outputs": [],
   "source": [
    "gamma = [0.1, 0.2, 0.3, 0.4, 0.5, 0.6, 0.7, 0.8, 0.9, 1.0]\n",
    "s_fac = [-1.0602920937388272, -1.0283037725521609, -0.9964929612909224, -0.9636043034867319, -0.9317050926331844, -0.9002846018819294, -0.8688735753325981, -0.8370489627240931, -0.8067599436485883, -0.7683690191739344]\n",
    "r_fac = [-3.807004514471803, -1.76338530458236, -1.1248941580099152, -0.8074013769804727, -0.6239965684290713, -0.5065490570873593, -0.4198904706114322, -0.35751799752342656, -0.3081828290251063, -0.2784458612526665]"
   ]
  },
  {
   "cell_type": "code",
   "execution_count": 2,
   "metadata": {},
   "outputs": [
    {
     "name": "stdout",
     "output_type": "stream",
     "text": [
      "[9.431363356429229, 4.862376404192735, 3.345064604385278, 2.5944259391058466, 2.1466019836250987, 1.8512664363943512, 1.644164892486899, 1.4933415554712575, 1.3772512131503314, 1.3014579909469668]\n"
     ]
    }
   ],
   "source": [
    "r_0 = []\n",
    "rratio = []\n",
    "for i in range(10):\n",
    "    r_0.append(-1.0 / (gamma[i] * s_fac[i]))\n",
    "    rratio.append(r_fac[i]/ s_fac[i])\n",
    "print(r_0)"
   ]
  },
  {
   "cell_type": "code",
   "execution_count": 3,
   "metadata": {},
   "outputs": [],
   "source": [
    "import matplotlib.pyplot as plt\n",
    "%matplotlib inline"
   ]
  },
  {
   "cell_type": "code",
   "execution_count": 4,
   "metadata": {},
   "outputs": [
    {
     "data": {
      "text/plain": [
       "[<matplotlib.lines.Line2D at 0x11cce23f630>]"
      ]
     },
     "execution_count": 4,
     "metadata": {},
     "output_type": "execute_result"
    },
    {
     "data": {
      "image/png": "[encoded data removed]",
      "text/plain": [
       "<Figure size 432x288 with 1 Axes>"
      ]
     },
     "metadata": {
      "needs_background": "light"
     },
     "output_type": "display_data"
    }
   ],
   "source": [
    "plt.xlabel(\"R0\")\n",
    "plt.ylabel(\"c/a\")\n",
    "plt.plot(r_0, rratio)"
   ]
  },
  {
   "cell_type": "code",
   "execution_count": 5,
   "metadata": {},
   "outputs": [
    {
     "data": {
      "text/html": [
       "<div>\n",
       "<style scoped>\n",
       "    .dataframe tbody tr th:only-of-type {\n",
       "        vertical-align: middle;\n",
       "    }\n",
       "\n",
       "    .dataframe tbody tr th {\n",
       "        vertical-align: top;\n",
       "    }\n",
       "\n",
       "    .dataframe thead th {\n",
       "        text-align: right;\n",
       "    }\n",
       "</style>\n",
       "<table border=\"1\" class=\"dataframe\">\n",
       "  <thead>\n",
       "    <tr style=\"text-align: right;\">\n",
       "      <th></th>\n",
       "      <th>count</th>\n",
       "      <th>mean</th>\n",
       "      <th>std</th>\n",
       "      <th>min</th>\n",
       "      <th>25%</th>\n",
       "      <th>50%</th>\n",
       "      <th>75%</th>\n",
       "      <th>max</th>\n",
       "    </tr>\n",
       "  </thead>\n",
       "  <tbody>\n",
       "    <tr>\n",
       "      <th>r_0</th>\n",
       "      <td>10.0</td>\n",
       "      <td>3.004731</td>\n",
       "      <td>2.511944</td>\n",
       "      <td>1.301458</td>\n",
       "      <td>1.531047</td>\n",
       "      <td>1.998934</td>\n",
       "      <td>3.157405</td>\n",
       "      <td>9.431363</td>\n",
       "    </tr>\n",
       "    <tr>\n",
       "      <th>rratio</th>\n",
       "      <td>10.0</td>\n",
       "      <td>1.015928</td>\n",
       "      <td>0.997007</td>\n",
       "      <td>0.362386</td>\n",
       "      <td>0.441152</td>\n",
       "      <td>0.616195</td>\n",
       "      <td>1.056114</td>\n",
       "      <td>3.590524</td>\n",
       "    </tr>\n",
       "  </tbody>\n",
       "</table>\n",
       "</div>"
      ],
      "text/plain": [
       "        count      mean       std       min       25%       50%       75%  \\\n",
       "r_0      10.0  3.004731  2.511944  1.301458  1.531047  1.998934  3.157405   \n",
       "rratio   10.0  1.015928  0.997007  0.362386  0.441152  0.616195  1.056114   \n",
       "\n",
       "             max  \n",
       "r_0     9.431363  \n",
       "rratio  3.590524  "
      ]
     },
     "execution_count": 5,
     "metadata": {},
     "output_type": "execute_result"
    }
   ],
   "source": [
    "import numpy, pandas\n",
    "titles = ['r_0', 'rratio']\n",
    "matrix = [r_0, rratio]\n",
    "df = pandas.DataFrame(numpy.array(matrix).T, columns=titles)\n",
    "df.describe().T"
   ]
  },
  {
   "cell_type": "code",
   "execution_count": 6,
   "metadata": {},
   "outputs": [
    {
     "data": {
      "text/html": [
       "<div>\n",
       "<style scoped>\n",
       "    .dataframe tbody tr th:only-of-type {\n",
       "        vertical-align: middle;\n",
       "    }\n",
       "\n",
       "    .dataframe tbody tr th {\n",
       "        vertical-align: top;\n",
       "    }\n",
       "\n",
       "    .dataframe thead th {\n",
       "        text-align: right;\n",
       "    }\n",
       "</style>\n",
       "<table border=\"1\" class=\"dataframe\">\n",
       "  <thead>\n",
       "    <tr style=\"text-align: right;\">\n",
       "      <th></th>\n",
       "      <th>r_0</th>\n",
       "      <th>rratio</th>\n",
       "    </tr>\n",
       "  </thead>\n",
       "  <tbody>\n",
       "    <tr>\n",
       "      <th>r_0</th>\n",
       "      <td>1.000000</td>\n",
       "      <td>0.999796</td>\n",
       "    </tr>\n",
       "    <tr>\n",
       "      <th>rratio</th>\n",
       "      <td>0.999796</td>\n",
       "      <td>1.000000</td>\n",
       "    </tr>\n",
       "  </tbody>\n",
       "</table>\n",
       "</div>"
      ],
      "text/plain": [
       "             r_0    rratio\n",
       "r_0     1.000000  0.999796\n",
       "rratio  0.999796  1.000000"
      ]
     },
     "execution_count": 6,
     "metadata": {},
     "output_type": "execute_result"
    }
   ],
   "source": [
    "df.corr()"
   ]
  },
  {
   "cell_type": "code",
   "execution_count": 7,
   "metadata": {},
   "outputs": [
    {
     "data": {
      "text/plain": [
       "<seaborn.axisgrid.PairGrid at 0x11ccef40e10>"
      ]
     },
     "execution_count": 7,
     "metadata": {},
     "output_type": "execute_result"
    },
    {
     "data": {
      "image/png": "[encoded data removed]",
      "text/plain": [
       "<Figure size 360x360 with 6 Axes>"
      ]
     },
     "metadata": {
      "needs_background": "light"
     },
     "output_type": "display_data"
    }
   ],
   "source": [
    "import seaborn as sns\n",
    "sns.pairplot(df,\n",
    "             plot_kws={'alpha': 0.6},\n",
    "             diag_kws={'bins': 30})"
   ]
  },
  {
   "cell_type": "code",
   "execution_count": 8,
   "metadata": {},
   "outputs": [],
   "source": [
    "from sklearn.linear_model import LinearRegression\n",
    "from sklearn.metrics import mean_squared_error"
   ]
  },
  {
   "cell_type": "code",
   "execution_count": 9,
   "metadata": {},
   "outputs": [
    {
     "name": "stdout",
     "output_type": "stream",
     "text": [
      "model: rratio = -0.1764272046739317 + 0.3968257353949572 R_0\n"
     ]
    }
   ],
   "source": [
    "y = df['rratio'].values\n",
    "df = df.drop('rratio', axis=1)\n",
    "x = df.values\n",
    "lm = LinearRegression(fit_intercept=True)\n",
    "lm.fit(x, y)\n",
    "y_pred = lm.predict(x)\n",
    "msg = 'model: rratio = {} + {} R_0'.format(lm.intercept_, lm.coef_[0])\n",
    "print(msg)"
   ]
  }
 ],
 "metadata": {
  "kernelspec": {
   "display_name": "Python 3",
   "language": "python",
   "name": "python3"
  },
  "language_info": {
   "codemirror_mode": {
    "name": "ipython",
    "version": 3
   },
   "file_extension": ".py",
   "mimetype": "text/x-python",
   "name": "python",
   "nbconvert_exporter": "python",
   "pygments_lexer": "ipython3",
   "version": "3.7.1"
  }
 },
 "nbformat": 4,
 "nbformat_minor": 2
}
