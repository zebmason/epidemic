{
 "cells": [
  {
   "cell_type": "code",
   "execution_count": 1,
   "metadata": {},
   "outputs": [],
   "source": [
    "gamma = [0.1, 0.2, 0.3, 0.4, 0.5, 0.6, 0.7, 0.8, 0.9, 1.0]\n",
    "s_fac = [-0.9848630187074249, -0.9554278458272991, -0.9289312863318809, -0.9020987258373515, -0.8770188774973857, -0.8542436677827702, -0.8281060200409812, -0.801609833416762, -0.7762610715287678, -0.7506026622169292]\n",
    "i_fac = [-0.28623628381001304, -0.29790470016687143, -0.28801191927422437, -0.28491231760093877, -0.26978056278323936, -0.23962773525535738, -0.23124421075210222, -0.22537020796131677, -0.22253164631040584, -0.16077037718991144]\n",
    "r_fac = [-1.2325567478448909, -0.6007041385158307, -0.45737255533737864, -0.37335000700896687, -0.33975504154501934, -0.3236358086231508, -0.29122066198828156, -0.2649272246861822, -0.24063951663890842, -0.24257475461175793]"
   ]
  },
  {
   "cell_type": "code",
   "execution_count": 2,
   "metadata": {},
   "outputs": [
    {
     "name": "stdout",
     "output_type": "stream",
     "text": [
      "[10.153696311111787, 5.23325756291992, 3.588352962570396, 2.7713152988653595, 2.2804526234453393, 1.9510436302004777, 1.7251069235080936, 1.5593621084612082, 1.4313626586000119, 1.332262794067993]\n"
     ]
    }
   ],
   "source": [
    "r_0 = []\n",
    "iratio = []\n",
    "rratio = []\n",
    "for i in range(10):\n",
    "    r_0.append(-1.0 / (gamma[i] * s_fac[i]))\n",
    "    iratio.append(i_fac[i]/ s_fac[i])\n",
    "    rratio.append(r_fac[i]/ s_fac[i])\n",
    "print(r_0)"
   ]
  },
  {
   "cell_type": "code",
   "execution_count": 3,
   "metadata": {},
   "outputs": [],
   "source": [
    "import matplotlib.pyplot as plt\n",
    "%matplotlib inline"
   ]
  },
  {
   "cell_type": "code",
   "execution_count": 4,
   "metadata": {},
   "outputs": [
    {
     "data": {
      "text/plain": [
       "[<matplotlib.lines.Line2D at 0x1d185015278>]"
      ]
     },
     "execution_count": 4,
     "metadata": {},
     "output_type": "execute_result"
    },
    {
     "data": {
      "image/png": "[encoded data removed]",
      "text/plain": [
       "<Figure size 432x288 with 1 Axes>"
      ]
     },
     "metadata": {
      "needs_background": "light"
     },
     "output_type": "display_data"
    }
   ],
   "source": [
    "plt.xlabel(\"R0\")\n",
    "plt.ylabel(\"b/a\")\n",
    "plt.plot(r_0, iratio)"
   ]
  },
  {
   "cell_type": "code",
   "execution_count": 5,
   "metadata": {},
   "outputs": [
    {
     "data": {
      "text/html": [
       "<div>\n",
       "<style scoped>\n",
       "    .dataframe tbody tr th:only-of-type {\n",
       "        vertical-align: middle;\n",
       "    }\n",
       "\n",
       "    .dataframe tbody tr th {\n",
       "        vertical-align: top;\n",
       "    }\n",
       "\n",
       "    .dataframe thead th {\n",
       "        text-align: right;\n",
       "    }\n",
       "</style>\n",
       "<table border=\"1\" class=\"dataframe\">\n",
       "  <thead>\n",
       "    <tr style=\"text-align: right;\">\n",
       "      <th></th>\n",
       "      <th>count</th>\n",
       "      <th>mean</th>\n",
       "      <th>std</th>\n",
       "      <th>min</th>\n",
       "      <th>25%</th>\n",
       "      <th>50%</th>\n",
       "      <th>75%</th>\n",
       "      <th>max</th>\n",
       "    </tr>\n",
       "  </thead>\n",
       "  <tbody>\n",
       "    <tr>\n",
       "      <th>r_0</th>\n",
       "      <td>10.0</td>\n",
       "      <td>3.202621</td>\n",
       "      <td>2.722571</td>\n",
       "      <td>1.332263</td>\n",
       "      <td>1.600798</td>\n",
       "      <td>2.115748</td>\n",
       "      <td>3.384094</td>\n",
       "      <td>10.153696</td>\n",
       "    </tr>\n",
       "    <tr>\n",
       "      <th>iratio</th>\n",
       "      <td>10.0</td>\n",
       "      <td>0.287769</td>\n",
       "      <td>0.029529</td>\n",
       "      <td>0.214188</td>\n",
       "      <td>0.280673</td>\n",
       "      <td>0.288653</td>\n",
       "      <td>0.309438</td>\n",
       "      <td>0.315833</td>\n",
       "    </tr>\n",
       "  </tbody>\n",
       "</table>\n",
       "</div>"
      ],
      "text/plain": [
       "        count      mean       std       min       25%       50%       75%  \\\n",
       "r_0      10.0  3.202621  2.722571  1.332263  1.600798  2.115748  3.384094   \n",
       "iratio   10.0  0.287769  0.029529  0.214188  0.280673  0.288653  0.309438   \n",
       "\n",
       "              max  \n",
       "r_0     10.153696  \n",
       "iratio   0.315833  "
      ]
     },
     "execution_count": 5,
     "metadata": {},
     "output_type": "execute_result"
    }
   ],
   "source": [
    "import numpy, pandas\n",
    "titles = ['r_0', 'iratio']\n",
    "matrix = [r_0, iratio]\n",
    "df = pandas.DataFrame(numpy.array(matrix).T, columns=titles)\n",
    "df.describe().T"
   ]
  },
  {
   "cell_type": "code",
   "execution_count": 6,
   "metadata": {},
   "outputs": [
    {
     "data": {
      "text/html": [
       "<div>\n",
       "<style scoped>\n",
       "    .dataframe tbody tr th:only-of-type {\n",
       "        vertical-align: middle;\n",
       "    }\n",
       "\n",
       "    .dataframe tbody tr th {\n",
       "        vertical-align: top;\n",
       "    }\n",
       "\n",
       "    .dataframe thead th {\n",
       "        text-align: right;\n",
       "    }\n",
       "</style>\n",
       "<table border=\"1\" class=\"dataframe\">\n",
       "  <thead>\n",
       "    <tr style=\"text-align: right;\">\n",
       "      <th></th>\n",
       "      <th>r_0</th>\n",
       "      <th>iratio</th>\n",
       "    </tr>\n",
       "  </thead>\n",
       "  <tbody>\n",
       "    <tr>\n",
       "      <th>r_0</th>\n",
       "      <td>1.00000</td>\n",
       "      <td>0.30273</td>\n",
       "    </tr>\n",
       "    <tr>\n",
       "      <th>iratio</th>\n",
       "      <td>0.30273</td>\n",
       "      <td>1.00000</td>\n",
       "    </tr>\n",
       "  </tbody>\n",
       "</table>\n",
       "</div>"
      ],
      "text/plain": [
       "            r_0   iratio\n",
       "r_0     1.00000  0.30273\n",
       "iratio  0.30273  1.00000"
      ]
     },
     "execution_count": 6,
     "metadata": {},
     "output_type": "execute_result"
    }
   ],
   "source": [
    "df.corr()"
   ]
  },
  {
   "cell_type": "code",
   "execution_count": 7,
   "metadata": {},
   "outputs": [
    {
     "data": {
      "text/plain": [
       "<seaborn.axisgrid.PairGrid at 0x1d1869bbc88>"
      ]
     },
     "execution_count": 7,
     "metadata": {},
     "output_type": "execute_result"
    },
    {
     "data": {
      "image/png": "[encoded data removed]",
      "text/plain": [
       "<Figure size 360x360 with 6 Axes>"
      ]
     },
     "metadata": {
      "needs_background": "light"
     },
     "output_type": "display_data"
    }
   ],
   "source": [
    "import seaborn as sns\n",
    "sns.pairplot(df,\n",
    "             plot_kws={'alpha': 0.6},\n",
    "             diag_kws={'bins': 30})"
   ]
  },
  {
   "cell_type": "code",
   "execution_count": 8,
   "metadata": {},
   "outputs": [],
   "source": [
    "from sklearn.linear_model import LinearRegression\n",
    "from sklearn.metrics import mean_squared_error"
   ]
  },
  {
   "cell_type": "code",
   "execution_count": 9,
   "metadata": {},
   "outputs": [
    {
     "name": "stdout",
     "output_type": "stream",
     "text": [
      "model: iratio = 0.2772537703751119 + 0.003283442687806802 R_0\n"
     ]
    }
   ],
   "source": [
    "y = df['iratio'].values\n",
    "df = df.drop('iratio', axis=1)\n",
    "x = df.values\n",
    "lm = LinearRegression(fit_intercept=True)\n",
    "lm.fit(x, y)\n",
    "y_pred = lm.predict(x)\n",
    "msg = 'model: iratio = {} + {} R_0'.format(lm.intercept_, lm.coef_[0])\n",
    "print(msg)"
   ]
  },
  {
   "cell_type": "code",
   "execution_count": 10,
   "metadata": {},
   "outputs": [
    {
     "data": {
      "text/plain": [
       "[<matplotlib.lines.Line2D at 0x1d188981cf8>]"
      ]
     },
     "execution_count": 10,
     "metadata": {},
     "output_type": "execute_result"
    },
    {
     "data": {
      "image/png": "[encoded data removed]",
      "text/plain": [
       "<Figure size 432x288 with 1 Axes>"
      ]
     },
     "metadata": {
      "needs_background": "light"
     },
     "output_type": "display_data"
    }
   ],
   "source": [
    "plt.xlabel(\"R0\")\n",
    "plt.ylabel(\"c/a\")\n",
    "plt.plot(r_0, rratio)"
   ]
  },
  {
   "cell_type": "code",
   "execution_count": 11,
   "metadata": {},
   "outputs": [
    {
     "data": {
      "text/html": [
       "<div>\n",
       "<style scoped>\n",
       "    .dataframe tbody tr th:only-of-type {\n",
       "        vertical-align: middle;\n",
       "    }\n",
       "\n",
       "    .dataframe tbody tr th {\n",
       "        vertical-align: top;\n",
       "    }\n",
       "\n",
       "    .dataframe thead th {\n",
       "        text-align: right;\n",
       "    }\n",
       "</style>\n",
       "<table border=\"1\" class=\"dataframe\">\n",
       "  <thead>\n",
       "    <tr style=\"text-align: right;\">\n",
       "      <th></th>\n",
       "      <th>count</th>\n",
       "      <th>mean</th>\n",
       "      <th>std</th>\n",
       "      <th>min</th>\n",
       "      <th>25%</th>\n",
       "      <th>50%</th>\n",
       "      <th>75%</th>\n",
       "      <th>max</th>\n",
       "    </tr>\n",
       "  </thead>\n",
       "  <tbody>\n",
       "    <tr>\n",
       "      <th>r_0</th>\n",
       "      <td>10.0</td>\n",
       "      <td>3.202621</td>\n",
       "      <td>2.722571</td>\n",
       "      <td>1.332263</td>\n",
       "      <td>1.600798</td>\n",
       "      <td>2.115748</td>\n",
       "      <td>3.384094</td>\n",
       "      <td>10.153696</td>\n",
       "    </tr>\n",
       "    <tr>\n",
       "      <th>rratio</th>\n",
       "      <td>10.0</td>\n",
       "      <td>0.486805</td>\n",
       "      <td>0.285291</td>\n",
       "      <td>0.309998</td>\n",
       "      <td>0.335788</td>\n",
       "      <td>0.383127</td>\n",
       "      <td>0.472740</td>\n",
       "      <td>1.251501</td>\n",
       "    </tr>\n",
       "  </tbody>\n",
       "</table>\n",
       "</div>"
      ],
      "text/plain": [
       "        count      mean       std       min       25%       50%       75%  \\\n",
       "r_0      10.0  3.202621  2.722571  1.332263  1.600798  2.115748  3.384094   \n",
       "rratio   10.0  0.486805  0.285291  0.309998  0.335788  0.383127  0.472740   \n",
       "\n",
       "              max  \n",
       "r_0     10.153696  \n",
       "rratio   1.251501  "
      ]
     },
     "execution_count": 11,
     "metadata": {},
     "output_type": "execute_result"
    }
   ],
   "source": [
    "titles = ['r_0', 'rratio']\n",
    "matrix = [r_0, rratio]\n",
    "df = pandas.DataFrame(numpy.array(matrix).T, columns=titles)\n",
    "df.describe().T"
   ]
  },
  {
   "cell_type": "code",
   "execution_count": 12,
   "metadata": {},
   "outputs": [
    {
     "data": {
      "text/html": [
       "<div>\n",
       "<style scoped>\n",
       "    .dataframe tbody tr th:only-of-type {\n",
       "        vertical-align: middle;\n",
       "    }\n",
       "\n",
       "    .dataframe tbody tr th {\n",
       "        vertical-align: top;\n",
       "    }\n",
       "\n",
       "    .dataframe thead th {\n",
       "        text-align: right;\n",
       "    }\n",
       "</style>\n",
       "<table border=\"1\" class=\"dataframe\">\n",
       "  <thead>\n",
       "    <tr style=\"text-align: right;\">\n",
       "      <th></th>\n",
       "      <th>r_0</th>\n",
       "      <th>rratio</th>\n",
       "    </tr>\n",
       "  </thead>\n",
       "  <tbody>\n",
       "    <tr>\n",
       "      <th>r_0</th>\n",
       "      <td>1.000000</td>\n",
       "      <td>0.992741</td>\n",
       "    </tr>\n",
       "    <tr>\n",
       "      <th>rratio</th>\n",
       "      <td>0.992741</td>\n",
       "      <td>1.000000</td>\n",
       "    </tr>\n",
       "  </tbody>\n",
       "</table>\n",
       "</div>"
      ],
      "text/plain": [
       "             r_0    rratio\n",
       "r_0     1.000000  0.992741\n",
       "rratio  0.992741  1.000000"
      ]
     },
     "execution_count": 12,
     "metadata": {},
     "output_type": "execute_result"
    }
   ],
   "source": [
    "df.corr()"
   ]
  },
  {
   "cell_type": "code",
   "execution_count": 13,
   "metadata": {},
   "outputs": [
    {
     "data": {
      "text/plain": [
       "<seaborn.axisgrid.PairGrid at 0x1d188c76cc0>"
      ]
     },
     "execution_count": 13,
     "metadata": {},
     "output_type": "execute_result"
    },
    {
     "data": {
      "image/png": "[encoded data removed]",
      "text/plain": [
       "<Figure size 360x360 with 6 Axes>"
      ]
     },
     "metadata": {
      "needs_background": "light"
     },
     "output_type": "display_data"
    }
   ],
   "source": [
    "sns.pairplot(df,\n",
    "             plot_kws={'alpha': 0.6},\n",
    "             diag_kws={'bins': 30})"
   ]
  },
  {
   "cell_type": "code",
   "execution_count": 14,
   "metadata": {},
   "outputs": [
    {
     "name": "stdout",
     "output_type": "stream",
     "text": [
      "model: rratio = 0.15364740760397894 + 0.10402658027539623 R_0\n"
     ]
    }
   ],
   "source": [
    "y = df['rratio'].values\n",
    "df = df.drop('rratio', axis=1)\n",
    "x = df.values\n",
    "lm = LinearRegression(fit_intercept=True)\n",
    "lm.fit(x, y)\n",
    "y_pred = lm.predict(x)\n",
    "msg = 'model: rratio = {} + {} R_0'.format(lm.intercept_, lm.coef_[0])\n",
    "print(msg)"
   ]
  }
 ],
 "metadata": {
  "kernelspec": {
   "display_name": "Python 3",
   "language": "python",
   "name": "python3"
  },
  "language_info": {
   "codemirror_mode": {
    "name": "ipython",
    "version": 3
   },
   "file_extension": ".py",
   "mimetype": "text/x-python",
   "name": "python",
   "nbconvert_exporter": "python",
   "pygments_lexer": "ipython3",
   "version": "3.7.1"
  }
 },
 "nbformat": 4,
 "nbformat_minor": 2
}
