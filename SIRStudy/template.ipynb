{
 "cells": [
  {
   "cell_type": "code",
   "execution_count": null,
   "metadata": {},
   "outputs": [],
   "source": [
    "import sys\n",
    "sys.path.append( \"..\")\n",
    "\n",
    "import plot"
   ]
  },
  {
   "cell_type": "code",
   "execution_count": null,
   "metadata": {},
   "outputs": [],
   "source": [
    "t, s, i, r, ssd, isd, rsd = plot.load('%CSV%')"
   ]
  },
  {
   "cell_type": "code",
   "execution_count": null,
   "metadata": {},
   "outputs": [],
   "source": [
    "ds = []\n",
    "th = []\n",
    "sh = []\n",
    "ih = []\n",
    "rh = []\n",
    "iprh = []\n",
    "for index in range(1, len(t)):\n",
    "    ds.append(s[index] - s[index-1])\n",
    "    th.append((t[index] + t[index-1])*0.5)\n",
    "    sh.append((s[index] + s[index-1])*0.5)\n",
    "    ih.append((i[index] + i[index-1])*0.5)\n",
    "    rh.append((r[index] + r[index-1])*0.5)\n",
    "    iprh.append(ih[-1] + rh[-1])"
   ]
  },
  {
   "cell_type": "code",
   "execution_count": null,
   "metadata": {},
   "outputs": [],
   "source": [
    "si = []\n",
    "sdelta = []\n",
    "idelta = []\n",
    "rdelta = []\n",
    "iprdelta = []\n",
    "for index in range(0, len(ds)):\n",
    "    si.append(ih[index] * sh[index])\n",
    "    sdelta.append(sh[index] * ds[index])\n",
    "    idelta.append(ih[index] * ds[index])\n",
    "    rdelta.append(rh[index] * ds[index])\n",
    "    iprdelta.append(idelta[-1] + rdelta[-1])"
   ]
  },
  {
   "cell_type": "markdown",
   "metadata": {},
   "source": [
    "## SI / (aS + bI + cR)"
   ]
  },
  {
   "cell_type": "code",
   "execution_count": null,
   "metadata": {},
   "outputs": [],
   "source": [
    "import numpy, pandas\n",
    "titles = ['si', 'sdelta', 'idelta', 'rdelta']\n",
    "matrix = [si, sdelta, idelta, rdelta]\n",
    "df = pandas.DataFrame(numpy.array(matrix).T, columns=titles)\n",
    "df.describe().T"
   ]
  },
  {
   "cell_type": "code",
   "execution_count": null,
   "metadata": {},
   "outputs": [],
   "source": [
    "df.corr()"
   ]
  },
  {
   "cell_type": "code",
   "execution_count": null,
   "metadata": {},
   "outputs": [],
   "source": [
    "import seaborn as sns\n",
    "sns.pairplot(df,\n",
    "             plot_kws={'alpha': 0.6},\n",
    "             diag_kws={'bins': 30})"
   ]
  },
  {
   "cell_type": "code",
   "execution_count": null,
   "metadata": {},
   "outputs": [],
   "source": [
    "from sklearn.linear_model import LinearRegression\n",
    "from sklearn.metrics import mean_squared_error"
   ]
  },
  {
   "cell_type": "code",
   "execution_count": null,
   "metadata": {},
   "outputs": [],
   "source": [
    "y = df['si'].values\n",
    "df = df.drop('si', axis=1)\n",
    "x = df.values\n",
    "lm = LinearRegression(fit_intercept=False)\n",
    "lm.fit(x, y)\n",
    "y_pred = lm.predict(x)\n",
    "msg = 'model: ds = SI / ({} S + {} I + {} R)'.format(lm.coef_[0], lm.coef_[1], lm.coef_[2])\n",
    "print(msg)"
   ]
  },
  {
   "cell_type": "code",
   "execution_count": null,
   "metadata": {},
   "outputs": [],
   "source": [
    "import matplotlib.pyplot as plt\n",
    "%matplotlib inline"
   ]
  },
  {
   "cell_type": "code",
   "execution_count": null,
   "metadata": {},
   "outputs": [],
   "source": [
    "predicted = []\n",
    "for index in range(0, len(ds)):\n",
    "    numerator = si[index]\n",
    "    denominator = lm.coef_[0] * sh[index] + lm.coef_[1] * ih[index] + lm.coef_[2] * rh[index]\n",
    "    predicted.append(numerator/denominator)\n",
    "plt.plot(ds, predicted)"
   ]
  },
  {
   "cell_type": "code",
   "execution_count": null,
   "metadata": {},
   "outputs": [],
   "source": [
    "plt.plot(th, ds, 'b')\n",
    "plt.plot(th, predicted, 'g')"
   ]
  },
  {
   "cell_type": "markdown",
   "metadata": {},
   "source": [
    "## SI / (aS + b(I + R))"
   ]
  },
  {
   "cell_type": "code",
   "execution_count": null,
   "metadata": {},
   "outputs": [],
   "source": [
    "titles = ['si', 'sdelta', 'iprdelta']\n",
    "matrix = [si, sdelta, iprdelta]\n",
    "df = pandas.DataFrame(numpy.array(matrix).T, columns=titles)\n",
    "df.describe().T"
   ]
  },
  {
   "cell_type": "code",
   "execution_count": null,
   "metadata": {},
   "outputs": [],
   "source": [
    "df.corr()"
   ]
  },
  {
   "cell_type": "code",
   "execution_count": null,
   "metadata": {},
   "outputs": [],
   "source": [
    "sns.pairplot(df,\n",
    "             plot_kws={'alpha': 0.6},\n",
    "             diag_kws={'bins': 30})"
   ]
  },
  {
   "cell_type": "code",
   "execution_count": null,
   "metadata": {},
   "outputs": [],
   "source": [
    "y = df['si'].values\n",
    "df = df.drop('si', axis=1)\n",
    "x = df.values\n",
    "lm = LinearRegression(fit_intercept=False)\n",
    "lm.fit(x, y)\n",
    "y_pred = lm.predict(x)\n",
    "msg = 'model: ds = SI / ({} S + {} (I + R))'.format(lm.coef_[0], lm.coef_[1])\n",
    "print(msg)"
   ]
  },
  {
   "cell_type": "code",
   "execution_count": null,
   "metadata": {},
   "outputs": [],
   "source": [
    "predicted = []\n",
    "for index in range(0, len(ds)):\n",
    "    numerator = si[index]\n",
    "    denominator = lm.coef_[0] * sh[index] + lm.coef_[1] * iprh[index]\n",
    "    predicted.append(numerator/denominator)\n",
    "plt.plot(ds, predicted)"
   ]
  },
  {
   "cell_type": "code",
   "execution_count": null,
   "metadata": {},
   "outputs": [],
   "source": [
    "th = []\n",
    "for index in range(1, len(t)):\n",
    "    th.append((t[index] + t[index-1])*0.5)\n",
    "plt.plot(th, ds, 'b')\n",
    "plt.plot(th, predicted, 'g')"
   ]
  },
  {
   "cell_type": "markdown",
   "metadata": {},
   "source": [
    "## SI / (aS + cR)"
   ]
  },
  {
   "cell_type": "code",
   "execution_count": null,
   "metadata": {},
   "outputs": [],
   "source": [
    "titles = ['si', 'sdelta', 'rdelta']\n",
    "matrix = [si, sdelta, rdelta]\n",
    "df = pandas.DataFrame(numpy.array(matrix).T, columns=titles)\n",
    "df.describe().T"
   ]
  },
  {
   "cell_type": "code",
   "execution_count": null,
   "metadata": {},
   "outputs": [],
   "source": [
    "df.corr()"
   ]
  },
  {
   "cell_type": "code",
   "execution_count": null,
   "metadata": {},
   "outputs": [],
   "source": [
    "sns.pairplot(df,\n",
    "             plot_kws={'alpha': 0.6},\n",
    "             diag_kws={'bins': 30})"
   ]
  },
  {
   "cell_type": "code",
   "execution_count": null,
   "metadata": {},
   "outputs": [],
   "source": [
    "y = df['si'].values\n",
    "df = df.drop('si', axis=1)\n",
    "x = df.values\n",
    "lm = LinearRegression(fit_intercept=False)\n",
    "lm.fit(x, y)\n",
    "y_pred = lm.predict(x)\n",
    "msg = 'model: ds = SI / ({} S + {} R'.format(lm.coef_[0], lm.coef_[1])\n",
    "print(msg)"
   ]
  },
  {
   "cell_type": "code",
   "execution_count": null,
   "metadata": {},
   "outputs": [],
   "source": [
    "predicted = []\n",
    "for index in range(0, len(ds)):\n",
    "    numerator = si[index]\n",
    "    denominator = lm.coef_[0] * sh[index] + lm.coef_[1] * rh[index]\n",
    "    predicted.append(numerator/denominator)\n",
    "plt.plot(ds, predicted)"
   ]
  },
  {
   "cell_type": "code",
   "execution_count": null,
   "metadata": {},
   "outputs": [],
   "source": [
    "th = []\n",
    "for index in range(1, len(t)):\n",
    "    th.append((t[index] + t[index-1])*0.5)\n",
    "plt.plot(th, ds, 'b')\n",
    "plt.plot(th, predicted, 'g')"
   ]
  }
 ],
 "metadata": {
  "kernelspec": {
   "display_name": "Python 3",
   "language": "python",
   "name": "python3"
  },
  "language_info": {
   "codemirror_mode": {
    "name": "ipython",
    "version": 3
   },
   "file_extension": ".py",
   "mimetype": "text/x-python",
   "name": "python",
   "nbconvert_exporter": "python",
   "pygments_lexer": "ipython3",
   "version": "3.7.1"
  }
 },
 "nbformat": 4,
 "nbformat_minor": 2
}
