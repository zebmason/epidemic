{
 "cells": [
  {
   "cell_type": "code",
   "execution_count": 1,
   "metadata": {},
   "outputs": [],
   "source": [
    "import sys\n",
    "sys.path.append( \"..\")\n",
    "\n",
    "import plot"
   ]
  },
  {
   "cell_type": "code",
   "execution_count": 2,
   "metadata": {},
   "outputs": [],
   "source": [
    "t, s, i, r, ssd, isd, rsd = plot.load('complete1000.csv')"
   ]
  },
  {
   "cell_type": "code",
   "execution_count": 3,
   "metadata": {},
   "outputs": [],
   "source": [
    "di = []\n",
    "sh = []\n",
    "ih = []\n",
    "for index in range(1, len(t)):\n",
    "    di.append(i[index] - i[index-1])\n",
    "    sh.append((s[index] + s[index-1])*0.5)\n",
    "    ih.append((i[index] + i[index-1])*0.5)"
   ]
  },
  {
   "cell_type": "code",
   "execution_count": 4,
   "metadata": {},
   "outputs": [
    {
     "data": {
      "text/html": [
       "<div>\n",
       "<style scoped>\n",
       "    .dataframe tbody tr th:only-of-type {\n",
       "        vertical-align: middle;\n",
       "    }\n",
       "\n",
       "    .dataframe tbody tr th {\n",
       "        vertical-align: top;\n",
       "    }\n",
       "\n",
       "    .dataframe thead th {\n",
       "        text-align: right;\n",
       "    }\n",
       "</style>\n",
       "<table border=\"1\" class=\"dataframe\">\n",
       "  <thead>\n",
       "    <tr style=\"text-align: right;\">\n",
       "      <th></th>\n",
       "      <th>count</th>\n",
       "      <th>mean</th>\n",
       "      <th>std</th>\n",
       "      <th>min</th>\n",
       "      <th>25%</th>\n",
       "      <th>50%</th>\n",
       "      <th>75%</th>\n",
       "      <th>max</th>\n",
       "    </tr>\n",
       "  </thead>\n",
       "  <tbody>\n",
       "    <tr>\n",
       "      <th>si</th>\n",
       "      <td>9.0</td>\n",
       "      <td>77317.086156</td>\n",
       "      <td>90250.550542</td>\n",
       "      <td>769.4071</td>\n",
       "      <td>5959.059975</td>\n",
       "      <td>49739.274975</td>\n",
       "      <td>125793.09510</td>\n",
       "      <td>232724.840775</td>\n",
       "    </tr>\n",
       "    <tr>\n",
       "      <th>sdelta</th>\n",
       "      <td>9.0</td>\n",
       "      <td>55444.500000</td>\n",
       "      <td>68566.733431</td>\n",
       "      <td>1.1858</td>\n",
       "      <td>5954.089950</td>\n",
       "      <td>17462.093600</td>\n",
       "      <td>108926.50600</td>\n",
       "      <td>191507.921150</td>\n",
       "    </tr>\n",
       "    <tr>\n",
       "      <th>idelta</th>\n",
       "      <td>9.0</td>\n",
       "      <td>55555.500000</td>\n",
       "      <td>88958.792759</td>\n",
       "      <td>4.0000</td>\n",
       "      <td>317.906400</td>\n",
       "      <td>2700.867750</td>\n",
       "      <td>103398.46975</td>\n",
       "      <td>259753.494000</td>\n",
       "    </tr>\n",
       "  </tbody>\n",
       "</table>\n",
       "</div>"
      ],
      "text/plain": [
       "        count          mean           std       min          25%  \\\n",
       "si        9.0  77317.086156  90250.550542  769.4071  5959.059975   \n",
       "sdelta    9.0  55444.500000  68566.733431    1.1858  5954.089950   \n",
       "idelta    9.0  55555.500000  88958.792759    4.0000   317.906400   \n",
       "\n",
       "                 50%           75%            max  \n",
       "si      49739.274975  125793.09510  232724.840775  \n",
       "sdelta  17462.093600  108926.50600  191507.921150  \n",
       "idelta   2700.867750  103398.46975  259753.494000  "
      ]
     },
     "execution_count": 4,
     "metadata": {},
     "output_type": "execute_result"
    }
   ],
   "source": [
    "si = []\n",
    "sdelta = []\n",
    "idelta = []\n",
    "for index in range(0, len(di)):\n",
    "    si.append(ih[index] * sh[index])\n",
    "    sdelta.append(sh[index] * di[index])\n",
    "    idelta.append(ih[index] * di[index])\n",
    "import numpy, pandas\n",
    "titles = ['si', 'sdelta', 'idelta']\n",
    "matrix = [si, sdelta, idelta]\n",
    "df = pandas.DataFrame(numpy.array(matrix).T, columns=titles)\n",
    "df.describe().T"
   ]
  },
  {
   "cell_type": "code",
   "execution_count": 5,
   "metadata": {},
   "outputs": [
    {
     "data": {
      "text/html": [
       "<div>\n",
       "<style scoped>\n",
       "    .dataframe tbody tr th:only-of-type {\n",
       "        vertical-align: middle;\n",
       "    }\n",
       "\n",
       "    .dataframe tbody tr th {\n",
       "        vertical-align: top;\n",
       "    }\n",
       "\n",
       "    .dataframe thead th {\n",
       "        text-align: right;\n",
       "    }\n",
       "</style>\n",
       "<table border=\"1\" class=\"dataframe\">\n",
       "  <thead>\n",
       "    <tr style=\"text-align: right;\">\n",
       "      <th></th>\n",
       "      <th>si</th>\n",
       "      <th>sdelta</th>\n",
       "      <th>idelta</th>\n",
       "    </tr>\n",
       "  </thead>\n",
       "  <tbody>\n",
       "    <tr>\n",
       "      <th>si</th>\n",
       "      <td>1.000000</td>\n",
       "      <td>0.941979</td>\n",
       "      <td>0.772833</td>\n",
       "    </tr>\n",
       "    <tr>\n",
       "      <th>sdelta</th>\n",
       "      <td>0.941979</td>\n",
       "      <td>1.000000</td>\n",
       "      <td>0.515904</td>\n",
       "    </tr>\n",
       "    <tr>\n",
       "      <th>idelta</th>\n",
       "      <td>0.772833</td>\n",
       "      <td>0.515904</td>\n",
       "      <td>1.000000</td>\n",
       "    </tr>\n",
       "  </tbody>\n",
       "</table>\n",
       "</div>"
      ],
      "text/plain": [
       "              si    sdelta    idelta\n",
       "si      1.000000  0.941979  0.772833\n",
       "sdelta  0.941979  1.000000  0.515904\n",
       "idelta  0.772833  0.515904  1.000000"
      ]
     },
     "execution_count": 5,
     "metadata": {},
     "output_type": "execute_result"
    }
   ],
   "source": [
    "df.corr()"
   ]
  },
  {
   "cell_type": "code",
   "execution_count": 6,
   "metadata": {},
   "outputs": [
    {
     "data": {
      "text/plain": [
       "<seaborn.axisgrid.PairGrid at 0x15cdfb8d7f0>"
      ]
     },
     "execution_count": 6,
     "metadata": {},
     "output_type": "execute_result"
    },
    {
     "data": {
      "image/png": "[encoded data removed]",
      "text/plain": [
       "<Figure size 540x540 with 12 Axes>"
      ]
     },
     "metadata": {
      "needs_background": "light"
     },
     "output_type": "display_data"
    }
   ],
   "source": [
    "import seaborn as sns\n",
    "sns.pairplot(df,\n",
    "             plot_kws={'alpha': 0.6},\n",
    "             diag_kws={'bins': 30})"
   ]
  },
  {
   "cell_type": "code",
   "execution_count": 7,
   "metadata": {},
   "outputs": [],
   "source": [
    "from sklearn.linear_model import LinearRegression\n",
    "from sklearn.metrics import mean_squared_error"
   ]
  },
  {
   "cell_type": "code",
   "execution_count": 8,
   "metadata": {},
   "outputs": [
    {
     "name": "stdout",
     "output_type": "stream",
     "text": [
      "model: di = SI / (0.9820236813171783 S + 0.3990761584734913 I)\n"
     ]
    }
   ],
   "source": [
    "y = df['si'].values\n",
    "df = df.drop('si', axis=1)\n",
    "x = df.values\n",
    "lm = LinearRegression(fit_intercept=False)\n",
    "lm.fit(x, y)\n",
    "y_pred = lm.predict(x)\n",
    "msg = 'model: di = SI / ({} S + {} I)'.format(lm.coef_[0], lm.coef_[1])\n",
    "print(msg)"
   ]
  },
  {
   "cell_type": "code",
   "execution_count": 9,
   "metadata": {},
   "outputs": [],
   "source": [
    "import matplotlib.pyplot as plt\n",
    "%matplotlib inline"
   ]
  },
  {
   "cell_type": "code",
   "execution_count": 10,
   "metadata": {},
   "outputs": [
    {
     "data": {
      "text/plain": [
       "[<matplotlib.lines.Line2D at 0x15ce3580828>]"
      ]
     },
     "execution_count": 10,
     "metadata": {},
     "output_type": "execute_result"
    },
    {
     "data": {
      "image/png": "[encoded data removed]",
      "text/plain": [
       "<Figure size 432x288 with 1 Axes>"
      ]
     },
     "metadata": {
      "needs_background": "light"
     },
     "output_type": "display_data"
    }
   ],
   "source": [
    "predicted = []\n",
    "for index in range(0, len(di)):\n",
    "    predicted.append(si[index] / (sh[index] + 0.4 * ih[index]))\n",
    "plt.plot(di, predicted)"
   ]
  },
  {
   "cell_type": "code",
   "execution_count": 11,
   "metadata": {},
   "outputs": [
    {
     "data": {
      "text/plain": [
       "[<matplotlib.lines.Line2D at 0x15ce360f710>]"
      ]
     },
     "execution_count": 11,
     "metadata": {},
     "output_type": "execute_result"
    },
    {
     "data": {
      "image/png": "[encoded data removed]",
      "text/plain": [
       "<Figure size 432x288 with 1 Axes>"
      ]
     },
     "metadata": {
      "needs_background": "light"
     },
     "output_type": "display_data"
    }
   ],
   "source": [
    "th = []\n",
    "for index in range(1, len(t)):\n",
    "    th.append((t[index] + t[index-1])*0.5)\n",
    "plt.plot(th, di)\n",
    "plt.plot(th, predicted)"
   ]
  },
  {
   "cell_type": "code",
   "execution_count": null,
   "metadata": {},
   "outputs": [],
   "source": []
  }
 ],
 "metadata": {
  "kernelspec": {
   "display_name": "Python 3",
   "language": "python",
   "name": "python3"
  },
  "language_info": {
   "codemirror_mode": {
    "name": "ipython",
    "version": 3
   },
   "file_extension": ".py",
   "mimetype": "text/x-python",
   "name": "python",
   "nbconvert_exporter": "python",
   "pygments_lexer": "ipython3",
   "version": "3.7.1"
  }
 },
 "nbformat": 4,
 "nbformat_minor": 2
}
