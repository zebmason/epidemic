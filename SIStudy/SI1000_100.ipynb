{
 "cells": [
  {
   "cell_type": "code",
   "execution_count": 1,
   "metadata": {},
   "outputs": [],
   "source": [
    "import sys\n",
    "sys.path.append( \"..\")\n",
    "\n",
    "import plot"
   ]
  },
  {
   "cell_type": "code",
   "execution_count": 2,
   "metadata": {},
   "outputs": [],
   "source": [
    "t, s, i, r, ssd, isd, rsd = plot.load('complete1000_100.csv')"
   ]
  },
  {
   "cell_type": "code",
   "execution_count": 3,
   "metadata": {},
   "outputs": [],
   "source": [
    "di = []\n",
    "sh = []\n",
    "ih = []\n",
    "for index in range(1, len(t)):\n",
    "    di.append(i[index] - i[index-1])\n",
    "    sh.append((s[index] + s[index-1])*0.5)\n",
    "    ih.append((i[index] + i[index-1])*0.5)"
   ]
  },
  {
   "cell_type": "code",
   "execution_count": 4,
   "metadata": {},
   "outputs": [
    {
     "data": {
      "text/html": [
       "<div>\n",
       "<style scoped>\n",
       "    .dataframe tbody tr th:only-of-type {\n",
       "        vertical-align: middle;\n",
       "    }\n",
       "\n",
       "    .dataframe tbody tr th {\n",
       "        vertical-align: top;\n",
       "    }\n",
       "\n",
       "    .dataframe thead th {\n",
       "        text-align: right;\n",
       "    }\n",
       "</style>\n",
       "<table border=\"1\" class=\"dataframe\">\n",
       "  <thead>\n",
       "    <tr style=\"text-align: right;\">\n",
       "      <th></th>\n",
       "      <th>count</th>\n",
       "      <th>mean</th>\n",
       "      <th>std</th>\n",
       "      <th>min</th>\n",
       "      <th>25%</th>\n",
       "      <th>50%</th>\n",
       "      <th>75%</th>\n",
       "      <th>max</th>\n",
       "    </tr>\n",
       "  </thead>\n",
       "  <tbody>\n",
       "    <tr>\n",
       "      <th>si</th>\n",
       "      <td>5.0</td>\n",
       "      <td>119830.50829</td>\n",
       "      <td>103193.155159</td>\n",
       "      <td>114.986775</td>\n",
       "      <td>28314.402775</td>\n",
       "      <td>151221.79590</td>\n",
       "      <td>172793.8204</td>\n",
       "      <td>246707.5356</td>\n",
       "    </tr>\n",
       "    <tr>\n",
       "      <th>sdelta</th>\n",
       "      <td>5.0</td>\n",
       "      <td>81000.00000</td>\n",
       "      <td>84285.199240</td>\n",
       "      <td>0.026450</td>\n",
       "      <td>1687.778550</td>\n",
       "      <td>72879.69120</td>\n",
       "      <td>139585.5918</td>\n",
       "      <td>190846.9120</td>\n",
       "    </tr>\n",
       "    <tr>\n",
       "      <th>idelta</th>\n",
       "      <td>5.0</td>\n",
       "      <td>99000.00000</td>\n",
       "      <td>103995.745747</td>\n",
       "      <td>229.973550</td>\n",
       "      <td>31834.408200</td>\n",
       "      <td>56182.22145</td>\n",
       "      <td>151553.0880</td>\n",
       "      <td>255200.3088</td>\n",
       "    </tr>\n",
       "  </tbody>\n",
       "</table>\n",
       "</div>"
      ],
      "text/plain": [
       "        count          mean            std         min           25%  \\\n",
       "si        5.0  119830.50829  103193.155159  114.986775  28314.402775   \n",
       "sdelta    5.0   81000.00000   84285.199240    0.026450   1687.778550   \n",
       "idelta    5.0   99000.00000  103995.745747  229.973550  31834.408200   \n",
       "\n",
       "                 50%          75%          max  \n",
       "si      151221.79590  172793.8204  246707.5356  \n",
       "sdelta   72879.69120  139585.5918  190846.9120  \n",
       "idelta   56182.22145  151553.0880  255200.3088  "
      ]
     },
     "execution_count": 4,
     "metadata": {},
     "output_type": "execute_result"
    }
   ],
   "source": [
    "si = []\n",
    "sdelta = []\n",
    "idelta = []\n",
    "for index in range(0, len(di)):\n",
    "    si.append(ih[index] * sh[index])\n",
    "    sdelta.append(sh[index] * di[index])\n",
    "    idelta.append(ih[index] * di[index])\n",
    "import numpy, pandas\n",
    "titles = ['si', 'sdelta', 'idelta']\n",
    "matrix = [si, sdelta, idelta]\n",
    "df = pandas.DataFrame(numpy.array(matrix).T, columns=titles)\n",
    "df.describe().T"
   ]
  },
  {
   "cell_type": "code",
   "execution_count": 5,
   "metadata": {},
   "outputs": [
    {
     "data": {
      "text/html": [
       "<div>\n",
       "<style scoped>\n",
       "    .dataframe tbody tr th:only-of-type {\n",
       "        vertical-align: middle;\n",
       "    }\n",
       "\n",
       "    .dataframe tbody tr th {\n",
       "        vertical-align: top;\n",
       "    }\n",
       "\n",
       "    .dataframe thead th {\n",
       "        text-align: right;\n",
       "    }\n",
       "</style>\n",
       "<table border=\"1\" class=\"dataframe\">\n",
       "  <thead>\n",
       "    <tr style=\"text-align: right;\">\n",
       "      <th></th>\n",
       "      <th>si</th>\n",
       "      <th>sdelta</th>\n",
       "      <th>idelta</th>\n",
       "    </tr>\n",
       "  </thead>\n",
       "  <tbody>\n",
       "    <tr>\n",
       "      <th>si</th>\n",
       "      <td>1.000000</td>\n",
       "      <td>0.928450</td>\n",
       "      <td>0.665673</td>\n",
       "    </tr>\n",
       "    <tr>\n",
       "      <th>sdelta</th>\n",
       "      <td>0.928450</td>\n",
       "      <td>1.000000</td>\n",
       "      <td>0.341283</td>\n",
       "    </tr>\n",
       "    <tr>\n",
       "      <th>idelta</th>\n",
       "      <td>0.665673</td>\n",
       "      <td>0.341283</td>\n",
       "      <td>1.000000</td>\n",
       "    </tr>\n",
       "  </tbody>\n",
       "</table>\n",
       "</div>"
      ],
      "text/plain": [
       "              si    sdelta    idelta\n",
       "si      1.000000  0.928450  0.665673\n",
       "sdelta  0.928450  1.000000  0.341283\n",
       "idelta  0.665673  0.341283  1.000000"
      ]
     },
     "execution_count": 5,
     "metadata": {},
     "output_type": "execute_result"
    }
   ],
   "source": [
    "df.corr()"
   ]
  },
  {
   "cell_type": "code",
   "execution_count": 6,
   "metadata": {},
   "outputs": [
    {
     "data": {
      "text/plain": [
       "<seaborn.axisgrid.PairGrid at 0x250d8c819e8>"
      ]
     },
     "execution_count": 6,
     "metadata": {},
     "output_type": "execute_result"
    },
    {
     "data": {
      "image/png": "[encoded data removed]",
      "text/plain": [
       "<Figure size 540x540 with 12 Axes>"
      ]
     },
     "metadata": {
      "needs_background": "light"
     },
     "output_type": "display_data"
    }
   ],
   "source": [
    "import seaborn as sns\n",
    "sns.pairplot(df,\n",
    "             plot_kws={'alpha': 0.6},\n",
    "             diag_kws={'bins': 30})"
   ]
  },
  {
   "cell_type": "code",
   "execution_count": 7,
   "metadata": {},
   "outputs": [],
   "source": [
    "from sklearn.linear_model import LinearRegression\n",
    "from sklearn.metrics import mean_squared_error"
   ]
  },
  {
   "cell_type": "code",
   "execution_count": 8,
   "metadata": {},
   "outputs": [
    {
     "name": "stdout",
     "output_type": "stream",
     "text": [
      "model: di = SI / (0.9809842790572152 S + 0.3990696105648225 I)\n"
     ]
    }
   ],
   "source": [
    "y = df['si'].values\n",
    "df = df.drop('si', axis=1)\n",
    "x = df.values\n",
    "lm = LinearRegression(fit_intercept=False)\n",
    "lm.fit(x, y)\n",
    "y_pred = lm.predict(x)\n",
    "msg = 'model: di = SI / ({} S + {} I)'.format(lm.coef_[0], lm.coef_[1])\n",
    "print(msg)"
   ]
  },
  {
   "cell_type": "code",
   "execution_count": 9,
   "metadata": {},
   "outputs": [],
   "source": [
    "import matplotlib.pyplot as plt\n",
    "%matplotlib inline"
   ]
  },
  {
   "cell_type": "code",
   "execution_count": 10,
   "metadata": {},
   "outputs": [
    {
     "data": {
      "text/plain": [
       "[<matplotlib.lines.Line2D at 0x250dc9cc8d0>]"
      ]
     },
     "execution_count": 10,
     "metadata": {},
     "output_type": "execute_result"
    },
    {
     "data": {
      "image/png": "[encoded data removed]",
      "text/plain": [
       "<Figure size 432x288 with 1 Axes>"
      ]
     },
     "metadata": {
      "needs_background": "light"
     },
     "output_type": "display_data"
    }
   ],
   "source": [
    "predicted = []\n",
    "for index in range(0, len(di)):\n",
    "    predicted.append(si[index] / (sh[index] + 0.4 * ih[index]))\n",
    "plt.plot(di, predicted)"
   ]
  },
  {
   "cell_type": "code",
   "execution_count": 11,
   "metadata": {},
   "outputs": [
    {
     "data": {
      "text/plain": [
       "[<matplotlib.lines.Line2D at 0x250dc9dc208>]"
      ]
     },
     "execution_count": 11,
     "metadata": {},
     "output_type": "execute_result"
    },
    {
     "data": {
      "image/png": "[encoded data removed]",
      "text/plain": [
       "<Figure size 432x288 with 1 Axes>"
      ]
     },
     "metadata": {
      "needs_background": "light"
     },
     "output_type": "display_data"
    }
   ],
   "source": [
    "th = []\n",
    "for index in range(1, len(t)):\n",
    "    th.append((t[index] + t[index-1])*0.5)\n",
    "plt.plot(th, di)\n",
    "plt.plot(th, predicted)"
   ]
  },
  {
   "cell_type": "code",
   "execution_count": null,
   "metadata": {},
   "outputs": [],
   "source": []
  }
 ],
 "metadata": {
  "kernelspec": {
   "display_name": "Python 3",
   "language": "python",
   "name": "python3"
  },
  "language_info": {
   "codemirror_mode": {
    "name": "ipython",
    "version": 3
   },
   "file_extension": ".py",
   "mimetype": "text/x-python",
   "name": "python",
   "nbconvert_exporter": "python",
   "pygments_lexer": "ipython3",
   "version": "3.7.1"
  }
 },
 "nbformat": 4,
 "nbformat_minor": 2
}
